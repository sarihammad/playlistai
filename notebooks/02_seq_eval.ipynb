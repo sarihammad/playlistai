{
  "cells": [
    {
      "cell_type": "markdown",
      "metadata": {},
      "source": [
        "# PlayListAI - Sequential Evaluation\n",
        "\n",
        "This notebook provides evaluation of sequential recommendation models.\n"
      ]
    }
  ],
  "metadata": {
    "language_info": {
      "name": "python"
    }
  },
  "nbformat": 4,
  "nbformat_minor": 2
}
